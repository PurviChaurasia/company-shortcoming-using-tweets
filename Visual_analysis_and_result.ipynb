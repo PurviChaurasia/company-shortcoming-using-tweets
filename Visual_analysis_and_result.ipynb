{
  "cells": [
    {
      "cell_type": "markdown",
      "metadata": {
        "id": "view-in-github",
        "colab_type": "text"
      },
      "source": [
        "<a href=\"https://colab.research.google.com/github/PurviChaurasia/company-shortcoming-using-tweets/blob/main/Visual_analysis_and_result.ipynb\" target=\"_parent\"><img src=\"https://colab.research.google.com/assets/colab-badge.svg\" alt=\"Open In Colab\"/></a>"
      ]
    },
    {
      "cell_type": "markdown",
      "source": [
        "#Extracting unique aspects from obtained aspects"
      ],
      "metadata": {
        "id": "qWLb5xpKeuz5"
      }
    },
    {
      "cell_type": "code",
      "execution_count": null,
      "metadata": {
        "id": "ZSUThi2S1P7v"
      },
      "outputs": [],
      "source": [
        "import pandas as pd\n",
        "\n",
        "import numpy as np"
      ]
    },
    {
      "cell_type": "code",
      "execution_count": null,
      "metadata": {
        "id": "yPH_N2sW1P7y"
      },
      "outputs": [],
      "source": [
        "df= pd.read_csv('final_out.csv')\n",
        "\n",
        "p1= pd.read_csv('final_out.csv')"
      ]
    },
    {
      "cell_type": "code",
      "execution_count": null,
      "metadata": {
        "id": "_yyqgqMH1P7z",
        "outputId": "b0dec857-44a5-4275-f4ec-9686b5c6d9df"
      },
      "outputs": [
        {
          "data": {
            "text/html": [
              "<div>\n",
              "<style scoped>\n",
              "    .dataframe tbody tr th:only-of-type {\n",
              "        vertical-align: middle;\n",
              "    }\n",
              "\n",
              "    .dataframe tbody tr th {\n",
              "        vertical-align: top;\n",
              "    }\n",
              "\n",
              "    .dataframe thead th {\n",
              "        text-align: right;\n",
              "    }\n",
              "</style>\n",
              "<table border=\"1\" class=\"dataframe\">\n",
              "  <thead>\n",
              "    <tr style=\"text-align: right;\">\n",
              "      <th></th>\n",
              "      <th>Unnamed: 0</th>\n",
              "      <th>Unnamed: 0.1</th>\n",
              "      <th>Date</th>\n",
              "      <th>User</th>\n",
              "      <th>Tweet</th>\n",
              "      <th>tokens</th>\n",
              "      <th>aspects</th>\n",
              "      <th>sentiments</th>\n",
              "    </tr>\n",
              "  </thead>\n",
              "  <tbody>\n",
              "    <tr>\n",
              "      <th>0</th>\n",
              "      <td>0</td>\n",
              "      <td>0</td>\n",
              "      <td>2022-07-13 11:53:05+00:00</td>\n",
              "      <td>mirayu05</td>\n",
              "      <td>some days i purchased nike from myntra which w...</td>\n",
              "      <td>['some', 'days', 'i', 'purchased', 'nike', 'fr...</td>\n",
              "      <td>['fit', 'size', 'delivery', 'return']</td>\n",
              "      <td>['Negative', 'Negative', 'Negative', 'Negative']</td>\n",
              "    </tr>\n",
              "    <tr>\n",
              "      <th>1</th>\n",
              "      <td>1</td>\n",
              "      <td>1</td>\n",
              "      <td>2022-07-13 11:44:23+00:00</td>\n",
              "      <td>iMahindroo</td>\n",
              "      <td>myntra so its sorted that my money is stolen i...</td>\n",
              "      <td>['myntra', 'so', 'its', 'sorted', 'that', 'my'...</td>\n",
              "      <td>['delivery', 'service']</td>\n",
              "      <td>['Negative', 'Negative']</td>\n",
              "    </tr>\n",
              "    <tr>\n",
              "      <th>2</th>\n",
              "      <td>2</td>\n",
              "      <td>2</td>\n",
              "      <td>2022-07-13 11:40:14+00:00</td>\n",
              "      <td>TarunPulsar180</td>\n",
              "      <td>myntra these sku's are under  day express deli...</td>\n",
              "      <td>['myntra', 'these', \"sku's\", 'are', 'under', '...</td>\n",
              "      <td>['delivery']</td>\n",
              "      <td>['Positive']</td>\n",
              "    </tr>\n",
              "    <tr>\n",
              "      <th>3</th>\n",
              "      <td>3</td>\n",
              "      <td>3</td>\n",
              "      <td>2022-07-13 11:34:47+00:00</td>\n",
              "      <td>Arunabha_Gupta</td>\n",
              "      <td>myntra myntra another extremely poor quality c...</td>\n",
              "      <td>['myntra', 'myntra', 'another', 'extremely', '...</td>\n",
              "      <td>['service', 'delivery agent']</td>\n",
              "      <td>['Negative', 'Negative']</td>\n",
              "    </tr>\n",
              "    <tr>\n",
              "      <th>4</th>\n",
              "      <td>4</td>\n",
              "      <td>4</td>\n",
              "      <td>2022-07-13 11:34:18+00:00</td>\n",
              "      <td>Muskan_patel_06</td>\n",
              "      <td>myntra now the delivery guy is denying to come...</td>\n",
              "      <td>['myntra', 'now', 'the', 'delivery', 'guy', 'i...</td>\n",
              "      <td>['delivery guy']</td>\n",
              "      <td>['Negative']</td>\n",
              "    </tr>\n",
              "  </tbody>\n",
              "</table>\n",
              "</div>"
            ],
            "text/plain": [
              "   Unnamed: 0  Unnamed: 0.1                       Date             User  \\\n",
              "0           0             0  2022-07-13 11:53:05+00:00         mirayu05   \n",
              "1           1             1  2022-07-13 11:44:23+00:00       iMahindroo   \n",
              "2           2             2  2022-07-13 11:40:14+00:00   TarunPulsar180   \n",
              "3           3             3  2022-07-13 11:34:47+00:00   Arunabha_Gupta   \n",
              "4           4             4  2022-07-13 11:34:18+00:00  Muskan_patel_06   \n",
              "\n",
              "                                               Tweet  \\\n",
              "0  some days i purchased nike from myntra which w...   \n",
              "1  myntra so its sorted that my money is stolen i...   \n",
              "2  myntra these sku's are under  day express deli...   \n",
              "3  myntra myntra another extremely poor quality c...   \n",
              "4  myntra now the delivery guy is denying to come...   \n",
              "\n",
              "                                              tokens  \\\n",
              "0  ['some', 'days', 'i', 'purchased', 'nike', 'fr...   \n",
              "1  ['myntra', 'so', 'its', 'sorted', 'that', 'my'...   \n",
              "2  ['myntra', 'these', \"sku's\", 'are', 'under', '...   \n",
              "3  ['myntra', 'myntra', 'another', 'extremely', '...   \n",
              "4  ['myntra', 'now', 'the', 'delivery', 'guy', 'i...   \n",
              "\n",
              "                                 aspects  \\\n",
              "0  ['fit', 'size', 'delivery', 'return']   \n",
              "1                ['delivery', 'service']   \n",
              "2                           ['delivery']   \n",
              "3          ['service', 'delivery agent']   \n",
              "4                       ['delivery guy']   \n",
              "\n",
              "                                         sentiments  \n",
              "0  ['Negative', 'Negative', 'Negative', 'Negative']  \n",
              "1                          ['Negative', 'Negative']  \n",
              "2                                      ['Positive']  \n",
              "3                          ['Negative', 'Negative']  \n",
              "4                                      ['Negative']  "
            ]
          },
          "execution_count": 4,
          "metadata": {},
          "output_type": "execute_result"
        }
      ],
      "source": [
        "df.head()"
      ]
    },
    {
      "cell_type": "code",
      "execution_count": null,
      "metadata": {
        "id": "vWdVNdAn1P7z"
      },
      "outputs": [],
      "source": [
        "df['Negative_aspect']= np.nan\n",
        "\n"
      ]
    },
    {
      "cell_type": "code",
      "execution_count": null,
      "metadata": {
        "id": "SLDFcR7u1P70"
      },
      "outputs": [],
      "source": [
        "\n",
        "\n",
        "for i in range(len(df)):\n",
        "\n",
        "    for j in range(len(df['aspects'][i])):\n",
        "\n",
        "        for k in range(len(df['sentiments'][i])):\n",
        "\n",
        "            if (j==k):\n",
        "\n",
        "                if (df['sentiments'][i][j]=='Positive'):\n",
        "\n",
        "                    df['aspects'][i].pop(j)\n",
        "                    df['sentiments'][i].pop(k)\n",
        "\n",
        "\n",
        "    "
      ]
    },
    {
      "cell_type": "code",
      "execution_count": null,
      "metadata": {
        "id": "Pr61ktQQ1P70",
        "outputId": "072778e9-a192-47c8-fdd9-952677e37851"
      },
      "outputs": [
        {
          "data": {
            "text/html": [
              "<div>\n",
              "<style scoped>\n",
              "    .dataframe tbody tr th:only-of-type {\n",
              "        vertical-align: middle;\n",
              "    }\n",
              "\n",
              "    .dataframe tbody tr th {\n",
              "        vertical-align: top;\n",
              "    }\n",
              "\n",
              "    .dataframe thead th {\n",
              "        text-align: right;\n",
              "    }\n",
              "</style>\n",
              "<table border=\"1\" class=\"dataframe\">\n",
              "  <thead>\n",
              "    <tr style=\"text-align: right;\">\n",
              "      <th></th>\n",
              "      <th>Unnamed: 0</th>\n",
              "      <th>Unnamed: 0.1</th>\n",
              "      <th>Date</th>\n",
              "      <th>User</th>\n",
              "      <th>Tweet</th>\n",
              "      <th>tokens</th>\n",
              "      <th>aspects</th>\n",
              "      <th>sentiments</th>\n",
              "      <th>Negative_aspect</th>\n",
              "    </tr>\n",
              "  </thead>\n",
              "  <tbody>\n",
              "    <tr>\n",
              "      <th>0</th>\n",
              "      <td>0</td>\n",
              "      <td>0</td>\n",
              "      <td>2022-07-13 11:53:05+00:00</td>\n",
              "      <td>mirayu05</td>\n",
              "      <td>some days i purchased nike from myntra which w...</td>\n",
              "      <td>['some', 'days', 'i', 'purchased', 'nike', 'fr...</td>\n",
              "      <td>['fit', 'size', 'delivery', 'return']</td>\n",
              "      <td>['Negative', 'Negative', 'Negative', 'Negative']</td>\n",
              "      <td>NaN</td>\n",
              "    </tr>\n",
              "    <tr>\n",
              "      <th>1</th>\n",
              "      <td>1</td>\n",
              "      <td>1</td>\n",
              "      <td>2022-07-13 11:44:23+00:00</td>\n",
              "      <td>iMahindroo</td>\n",
              "      <td>myntra so its sorted that my money is stolen i...</td>\n",
              "      <td>['myntra', 'so', 'its', 'sorted', 'that', 'my'...</td>\n",
              "      <td>['delivery', 'service']</td>\n",
              "      <td>['Negative', 'Negative']</td>\n",
              "      <td>NaN</td>\n",
              "    </tr>\n",
              "    <tr>\n",
              "      <th>2</th>\n",
              "      <td>2</td>\n",
              "      <td>2</td>\n",
              "      <td>2022-07-13 11:40:14+00:00</td>\n",
              "      <td>TarunPulsar180</td>\n",
              "      <td>myntra these sku's are under  day express deli...</td>\n",
              "      <td>['myntra', 'these', \"sku's\", 'are', 'under', '...</td>\n",
              "      <td>['delivery']</td>\n",
              "      <td>['Positive']</td>\n",
              "      <td>NaN</td>\n",
              "    </tr>\n",
              "    <tr>\n",
              "      <th>3</th>\n",
              "      <td>3</td>\n",
              "      <td>3</td>\n",
              "      <td>2022-07-13 11:34:47+00:00</td>\n",
              "      <td>Arunabha_Gupta</td>\n",
              "      <td>myntra myntra another extremely poor quality c...</td>\n",
              "      <td>['myntra', 'myntra', 'another', 'extremely', '...</td>\n",
              "      <td>['service', 'delivery agent']</td>\n",
              "      <td>['Negative', 'Negative']</td>\n",
              "      <td>NaN</td>\n",
              "    </tr>\n",
              "    <tr>\n",
              "      <th>4</th>\n",
              "      <td>4</td>\n",
              "      <td>4</td>\n",
              "      <td>2022-07-13 11:34:18+00:00</td>\n",
              "      <td>Muskan_patel_06</td>\n",
              "      <td>myntra now the delivery guy is denying to come...</td>\n",
              "      <td>['myntra', 'now', 'the', 'delivery', 'guy', 'i...</td>\n",
              "      <td>['delivery guy']</td>\n",
              "      <td>['Negative']</td>\n",
              "      <td>NaN</td>\n",
              "    </tr>\n",
              "  </tbody>\n",
              "</table>\n",
              "</div>"
            ],
            "text/plain": [
              "   Unnamed: 0  Unnamed: 0.1                       Date             User  \\\n",
              "0           0             0  2022-07-13 11:53:05+00:00         mirayu05   \n",
              "1           1             1  2022-07-13 11:44:23+00:00       iMahindroo   \n",
              "2           2             2  2022-07-13 11:40:14+00:00   TarunPulsar180   \n",
              "3           3             3  2022-07-13 11:34:47+00:00   Arunabha_Gupta   \n",
              "4           4             4  2022-07-13 11:34:18+00:00  Muskan_patel_06   \n",
              "\n",
              "                                               Tweet  \\\n",
              "0  some days i purchased nike from myntra which w...   \n",
              "1  myntra so its sorted that my money is stolen i...   \n",
              "2  myntra these sku's are under  day express deli...   \n",
              "3  myntra myntra another extremely poor quality c...   \n",
              "4  myntra now the delivery guy is denying to come...   \n",
              "\n",
              "                                              tokens  \\\n",
              "0  ['some', 'days', 'i', 'purchased', 'nike', 'fr...   \n",
              "1  ['myntra', 'so', 'its', 'sorted', 'that', 'my'...   \n",
              "2  ['myntra', 'these', \"sku's\", 'are', 'under', '...   \n",
              "3  ['myntra', 'myntra', 'another', 'extremely', '...   \n",
              "4  ['myntra', 'now', 'the', 'delivery', 'guy', 'i...   \n",
              "\n",
              "                                 aspects  \\\n",
              "0  ['fit', 'size', 'delivery', 'return']   \n",
              "1                ['delivery', 'service']   \n",
              "2                           ['delivery']   \n",
              "3          ['service', 'delivery agent']   \n",
              "4                       ['delivery guy']   \n",
              "\n",
              "                                         sentiments  Negative_aspect  \n",
              "0  ['Negative', 'Negative', 'Negative', 'Negative']              NaN  \n",
              "1                          ['Negative', 'Negative']              NaN  \n",
              "2                                      ['Positive']              NaN  \n",
              "3                          ['Negative', 'Negative']              NaN  \n",
              "4                                      ['Negative']              NaN  "
            ]
          },
          "execution_count": 130,
          "metadata": {},
          "output_type": "execute_result"
        }
      ],
      "source": [
        "df.head()"
      ]
    },
    {
      "cell_type": "code",
      "execution_count": null,
      "metadata": {
        "id": "IseAbTkK1P71",
        "outputId": "3c304b62-6172-475c-99d4-f0f6a06b0cf6"
      },
      "outputs": [
        {
          "name": "stderr",
          "output_type": "stream",
          "text": [
            "C:\\Users\\nikit\\AppData\\Local\\Temp\\ipykernel_29272\\1768720224.py:3: SettingWithCopyWarning: \n",
            "A value is trying to be set on a copy of a slice from a DataFrame\n",
            "\n",
            "See the caveats in the documentation: https://pandas.pydata.org/pandas-docs/stable/user_guide/indexing.html#returning-a-view-versus-a-copy\n",
            "  df['aspects'][i]= df['aspects'][i].strip('][').split(',')\n",
            "C:\\Users\\nikit\\AppData\\Local\\Temp\\ipykernel_29272\\1768720224.py:5: SettingWithCopyWarning: \n",
            "A value is trying to be set on a copy of a slice from a DataFrame\n",
            "\n",
            "See the caveats in the documentation: https://pandas.pydata.org/pandas-docs/stable/user_guide/indexing.html#returning-a-view-versus-a-copy\n",
            "  df['sentiments'][i]= df['sentiments'][i].strip('][').split(',')\n"
          ]
        }
      ],
      "source": [
        "for i in range(len(df)):\n",
        "\n",
        "    df['aspects'][i]= df['aspects'][i].strip('][').split(',')\n",
        "\n",
        "    df['sentiments'][i]= df['sentiments'][i].strip('][').split(',')\n",
        "\n",
        "\n",
        "\n"
      ]
    },
    {
      "cell_type": "code",
      "execution_count": null,
      "metadata": {
        "id": "ut4m7x3r1P71",
        "outputId": "5243c213-1097-4c98-dfa7-7ed4165e8512"
      },
      "outputs": [
        {
          "name": "stderr",
          "output_type": "stream",
          "text": [
            "C:\\Users\\nikit\\AppData\\Local\\Temp\\ipykernel_29272\\1325044420.py:3: SettingWithCopyWarning: \n",
            "A value is trying to be set on a copy of a slice from a DataFrame\n",
            "\n",
            "See the caveats in the documentation: https://pandas.pydata.org/pandas-docs/stable/user_guide/indexing.html#returning-a-view-versus-a-copy\n",
            "  p1['aspects'][i]= p1['aspects'][i].strip('][').split(',')\n",
            "C:\\Users\\nikit\\AppData\\Local\\Temp\\ipykernel_29272\\1325044420.py:5: SettingWithCopyWarning: \n",
            "A value is trying to be set on a copy of a slice from a DataFrame\n",
            "\n",
            "See the caveats in the documentation: https://pandas.pydata.org/pandas-docs/stable/user_guide/indexing.html#returning-a-view-versus-a-copy\n",
            "  p1['sentiments'][i]= p1['sentiments'][i].strip('][').split(',')\n"
          ]
        }
      ],
      "source": [
        "for i in range(len(p1)):\n",
        "    \n",
        "    p1['aspects'][i]= p1['aspects'][i].strip('][').split(',')\n",
        "\n",
        "    p1['sentiments'][i]= p1['sentiments'][i].strip('][').split(',')"
      ]
    },
    {
      "cell_type": "code",
      "execution_count": null,
      "metadata": {
        "id": "o9UA6Qu81P72"
      },
      "outputs": [],
      "source": [
        "for i in range(len(df)):\n",
        "    \n",
        "    for j in range(len(df['aspects'][i])):\n",
        "\n",
        "        for k in range(len(df['sentiments'][i])):\n",
        "\n",
        "            if (j==k):\n",
        "\n",
        "                if (df['sentiments'][i][j]==\"'Positive'\"):\n",
        "\n",
        "                    df['aspects'][i].pop(j)\n",
        "                    df['sentiments'][i].pop(k)\n"
      ]
    },
    {
      "cell_type": "code",
      "execution_count": null,
      "metadata": {
        "id": "na_5B5BU1P72",
        "outputId": "6fa0a552-d04f-4af1-ab93-a15081079c19"
      },
      "outputs": [
        {
          "data": {
            "text/html": [
              "<div>\n",
              "<style scoped>\n",
              "    .dataframe tbody tr th:only-of-type {\n",
              "        vertical-align: middle;\n",
              "    }\n",
              "\n",
              "    .dataframe tbody tr th {\n",
              "        vertical-align: top;\n",
              "    }\n",
              "\n",
              "    .dataframe thead th {\n",
              "        text-align: right;\n",
              "    }\n",
              "</style>\n",
              "<table border=\"1\" class=\"dataframe\">\n",
              "  <thead>\n",
              "    <tr style=\"text-align: right;\">\n",
              "      <th></th>\n",
              "      <th>Unnamed: 0</th>\n",
              "      <th>Unnamed: 0.1</th>\n",
              "      <th>Date</th>\n",
              "      <th>User</th>\n",
              "      <th>Tweet</th>\n",
              "      <th>tokens</th>\n",
              "      <th>aspects</th>\n",
              "      <th>sentiments</th>\n",
              "    </tr>\n",
              "  </thead>\n",
              "  <tbody>\n",
              "    <tr>\n",
              "      <th>0</th>\n",
              "      <td>0</td>\n",
              "      <td>0</td>\n",
              "      <td>2022-07-13 11:53:05+00:00</td>\n",
              "      <td>mirayu05</td>\n",
              "      <td>some days i purchased nike from myntra which w...</td>\n",
              "      <td>['some', 'days', 'i', 'purchased', 'nike', 'fr...</td>\n",
              "      <td>['fit',  'size',  'delivery',  'return']</td>\n",
              "      <td>['Negative',  'Negative',  'Negative',  'Negat...</td>\n",
              "    </tr>\n",
              "    <tr>\n",
              "      <th>1</th>\n",
              "      <td>1</td>\n",
              "      <td>1</td>\n",
              "      <td>2022-07-13 11:44:23+00:00</td>\n",
              "      <td>iMahindroo</td>\n",
              "      <td>myntra so its sorted that my money is stolen i...</td>\n",
              "      <td>['myntra', 'so', 'its', 'sorted', 'that', 'my'...</td>\n",
              "      <td>['delivery',  'service']</td>\n",
              "      <td>['Negative',  'Negative']</td>\n",
              "    </tr>\n",
              "    <tr>\n",
              "      <th>2</th>\n",
              "      <td>2</td>\n",
              "      <td>2</td>\n",
              "      <td>2022-07-13 11:40:14+00:00</td>\n",
              "      <td>TarunPulsar180</td>\n",
              "      <td>myntra these sku's are under  day express deli...</td>\n",
              "      <td>['myntra', 'these', \"sku's\", 'are', 'under', '...</td>\n",
              "      <td>[]</td>\n",
              "      <td>[]</td>\n",
              "    </tr>\n",
              "    <tr>\n",
              "      <th>3</th>\n",
              "      <td>3</td>\n",
              "      <td>3</td>\n",
              "      <td>2022-07-13 11:34:47+00:00</td>\n",
              "      <td>Arunabha_Gupta</td>\n",
              "      <td>myntra myntra another extremely poor quality c...</td>\n",
              "      <td>['myntra', 'myntra', 'another', 'extremely', '...</td>\n",
              "      <td>['service',  'delivery agent']</td>\n",
              "      <td>['Negative',  'Negative']</td>\n",
              "    </tr>\n",
              "    <tr>\n",
              "      <th>4</th>\n",
              "      <td>4</td>\n",
              "      <td>4</td>\n",
              "      <td>2022-07-13 11:34:18+00:00</td>\n",
              "      <td>Muskan_patel_06</td>\n",
              "      <td>myntra now the delivery guy is denying to come...</td>\n",
              "      <td>['myntra', 'now', 'the', 'delivery', 'guy', 'i...</td>\n",
              "      <td>['delivery guy']</td>\n",
              "      <td>['Negative']</td>\n",
              "    </tr>\n",
              "  </tbody>\n",
              "</table>\n",
              "</div>"
            ],
            "text/plain": [
              "   Unnamed: 0  Unnamed: 0.1                       Date             User  \\\n",
              "0           0             0  2022-07-13 11:53:05+00:00         mirayu05   \n",
              "1           1             1  2022-07-13 11:44:23+00:00       iMahindroo   \n",
              "2           2             2  2022-07-13 11:40:14+00:00   TarunPulsar180   \n",
              "3           3             3  2022-07-13 11:34:47+00:00   Arunabha_Gupta   \n",
              "4           4             4  2022-07-13 11:34:18+00:00  Muskan_patel_06   \n",
              "\n",
              "                                               Tweet  \\\n",
              "0  some days i purchased nike from myntra which w...   \n",
              "1  myntra so its sorted that my money is stolen i...   \n",
              "2  myntra these sku's are under  day express deli...   \n",
              "3  myntra myntra another extremely poor quality c...   \n",
              "4  myntra now the delivery guy is denying to come...   \n",
              "\n",
              "                                              tokens  \\\n",
              "0  ['some', 'days', 'i', 'purchased', 'nike', 'fr...   \n",
              "1  ['myntra', 'so', 'its', 'sorted', 'that', 'my'...   \n",
              "2  ['myntra', 'these', \"sku's\", 'are', 'under', '...   \n",
              "3  ['myntra', 'myntra', 'another', 'extremely', '...   \n",
              "4  ['myntra', 'now', 'the', 'delivery', 'guy', 'i...   \n",
              "\n",
              "                                    aspects  \\\n",
              "0  ['fit',  'size',  'delivery',  'return']   \n",
              "1                  ['delivery',  'service']   \n",
              "2                                        []   \n",
              "3            ['service',  'delivery agent']   \n",
              "4                          ['delivery guy']   \n",
              "\n",
              "                                          sentiments  \n",
              "0  ['Negative',  'Negative',  'Negative',  'Negat...  \n",
              "1                          ['Negative',  'Negative']  \n",
              "2                                                 []  \n",
              "3                          ['Negative',  'Negative']  \n",
              "4                                       ['Negative']  "
            ]
          },
          "execution_count": 7,
          "metadata": {},
          "output_type": "execute_result"
        }
      ],
      "source": [
        "df.head()"
      ]
    },
    {
      "cell_type": "code",
      "execution_count": null,
      "metadata": {
        "id": "QmR5kiY61P72",
        "outputId": "219431dd-748d-4c8c-a328-8c5167da2ff8"
      },
      "outputs": [
        {
          "name": "stderr",
          "output_type": "stream",
          "text": [
            "C:\\Users\\nikit\\AppData\\Local\\Temp\\ipykernel_29272\\2168892223.py:5: SettingWithCopyWarning: \n",
            "A value is trying to be set on a copy of a slice from a DataFrame\n",
            "\n",
            "See the caveats in the documentation: https://pandas.pydata.org/pandas-docs/stable/user_guide/indexing.html#returning-a-view-versus-a-copy\n",
            "  df['aspects'][i]=np.nan\n"
          ]
        }
      ],
      "source": [
        "for i in range(len(df)):\n",
        "\n",
        "    if (df['aspects'][i]==[]):\n",
        "\n",
        "        df['aspects'][i]=np.nan"
      ]
    },
    {
      "cell_type": "code",
      "execution_count": null,
      "metadata": {
        "id": "DPN_H3s91P73",
        "outputId": "268554fc-e3f0-4e41-e2e7-90b9da0a1f49"
      },
      "outputs": [
        {
          "data": {
            "text/html": [
              "<div>\n",
              "<style scoped>\n",
              "    .dataframe tbody tr th:only-of-type {\n",
              "        vertical-align: middle;\n",
              "    }\n",
              "\n",
              "    .dataframe tbody tr th {\n",
              "        vertical-align: top;\n",
              "    }\n",
              "\n",
              "    .dataframe thead th {\n",
              "        text-align: right;\n",
              "    }\n",
              "</style>\n",
              "<table border=\"1\" class=\"dataframe\">\n",
              "  <thead>\n",
              "    <tr style=\"text-align: right;\">\n",
              "      <th></th>\n",
              "      <th>Unnamed: 0</th>\n",
              "      <th>Unnamed: 0.1</th>\n",
              "      <th>Date</th>\n",
              "      <th>User</th>\n",
              "      <th>Tweet</th>\n",
              "      <th>tokens</th>\n",
              "      <th>aspects</th>\n",
              "      <th>sentiments</th>\n",
              "    </tr>\n",
              "  </thead>\n",
              "  <tbody>\n",
              "    <tr>\n",
              "      <th>0</th>\n",
              "      <td>0</td>\n",
              "      <td>0</td>\n",
              "      <td>2022-07-13 11:53:05+00:00</td>\n",
              "      <td>mirayu05</td>\n",
              "      <td>some days i purchased nike from myntra which w...</td>\n",
              "      <td>['some', 'days', 'i', 'purchased', 'nike', 'fr...</td>\n",
              "      <td>['fit',  'size',  'delivery',  'return']</td>\n",
              "      <td>['Negative',  'Negative',  'Negative',  'Negat...</td>\n",
              "    </tr>\n",
              "    <tr>\n",
              "      <th>1</th>\n",
              "      <td>1</td>\n",
              "      <td>1</td>\n",
              "      <td>2022-07-13 11:44:23+00:00</td>\n",
              "      <td>iMahindroo</td>\n",
              "      <td>myntra so its sorted that my money is stolen i...</td>\n",
              "      <td>['myntra', 'so', 'its', 'sorted', 'that', 'my'...</td>\n",
              "      <td>['delivery',  'service']</td>\n",
              "      <td>['Negative',  'Negative']</td>\n",
              "    </tr>\n",
              "    <tr>\n",
              "      <th>2</th>\n",
              "      <td>2</td>\n",
              "      <td>2</td>\n",
              "      <td>2022-07-13 11:40:14+00:00</td>\n",
              "      <td>TarunPulsar180</td>\n",
              "      <td>myntra these sku's are under  day express deli...</td>\n",
              "      <td>['myntra', 'these', \"sku's\", 'are', 'under', '...</td>\n",
              "      <td>NaN</td>\n",
              "      <td>[]</td>\n",
              "    </tr>\n",
              "    <tr>\n",
              "      <th>3</th>\n",
              "      <td>3</td>\n",
              "      <td>3</td>\n",
              "      <td>2022-07-13 11:34:47+00:00</td>\n",
              "      <td>Arunabha_Gupta</td>\n",
              "      <td>myntra myntra another extremely poor quality c...</td>\n",
              "      <td>['myntra', 'myntra', 'another', 'extremely', '...</td>\n",
              "      <td>['service',  'delivery agent']</td>\n",
              "      <td>['Negative',  'Negative']</td>\n",
              "    </tr>\n",
              "    <tr>\n",
              "      <th>4</th>\n",
              "      <td>4</td>\n",
              "      <td>4</td>\n",
              "      <td>2022-07-13 11:34:18+00:00</td>\n",
              "      <td>Muskan_patel_06</td>\n",
              "      <td>myntra now the delivery guy is denying to come...</td>\n",
              "      <td>['myntra', 'now', 'the', 'delivery', 'guy', 'i...</td>\n",
              "      <td>['delivery guy']</td>\n",
              "      <td>['Negative']</td>\n",
              "    </tr>\n",
              "  </tbody>\n",
              "</table>\n",
              "</div>"
            ],
            "text/plain": [
              "   Unnamed: 0  Unnamed: 0.1                       Date             User  \\\n",
              "0           0             0  2022-07-13 11:53:05+00:00         mirayu05   \n",
              "1           1             1  2022-07-13 11:44:23+00:00       iMahindroo   \n",
              "2           2             2  2022-07-13 11:40:14+00:00   TarunPulsar180   \n",
              "3           3             3  2022-07-13 11:34:47+00:00   Arunabha_Gupta   \n",
              "4           4             4  2022-07-13 11:34:18+00:00  Muskan_patel_06   \n",
              "\n",
              "                                               Tweet  \\\n",
              "0  some days i purchased nike from myntra which w...   \n",
              "1  myntra so its sorted that my money is stolen i...   \n",
              "2  myntra these sku's are under  day express deli...   \n",
              "3  myntra myntra another extremely poor quality c...   \n",
              "4  myntra now the delivery guy is denying to come...   \n",
              "\n",
              "                                              tokens  \\\n",
              "0  ['some', 'days', 'i', 'purchased', 'nike', 'fr...   \n",
              "1  ['myntra', 'so', 'its', 'sorted', 'that', 'my'...   \n",
              "2  ['myntra', 'these', \"sku's\", 'are', 'under', '...   \n",
              "3  ['myntra', 'myntra', 'another', 'extremely', '...   \n",
              "4  ['myntra', 'now', 'the', 'delivery', 'guy', 'i...   \n",
              "\n",
              "                                    aspects  \\\n",
              "0  ['fit',  'size',  'delivery',  'return']   \n",
              "1                  ['delivery',  'service']   \n",
              "2                                       NaN   \n",
              "3            ['service',  'delivery agent']   \n",
              "4                          ['delivery guy']   \n",
              "\n",
              "                                          sentiments  \n",
              "0  ['Negative',  'Negative',  'Negative',  'Negat...  \n",
              "1                          ['Negative',  'Negative']  \n",
              "2                                                 []  \n",
              "3                          ['Negative',  'Negative']  \n",
              "4                                       ['Negative']  "
            ]
          },
          "execution_count": 9,
          "metadata": {},
          "output_type": "execute_result"
        }
      ],
      "source": [
        "df.head()"
      ]
    },
    {
      "cell_type": "code",
      "execution_count": null,
      "metadata": {
        "id": "RvK98Or31P73",
        "outputId": "9702fdfa-c672-491e-985e-7bc3896982e3"
      },
      "outputs": [
        {
          "data": {
            "text/plain": [
              "2"
            ]
          },
          "execution_count": 10,
          "metadata": {},
          "output_type": "execute_result"
        }
      ],
      "source": [
        "len(list(df['aspects'][1]))"
      ]
    },
    {
      "cell_type": "code",
      "execution_count": null,
      "metadata": {
        "id": "EdL9Aj4U1P73",
        "outputId": "b76b8d4e-c275-4594-ff31-5b2d9acf20c7"
      },
      "outputs": [
        {
          "data": {
            "text/plain": [
              "0       ['fit',  'size',  'delivery',  'return']\n",
              "1                       ['delivery',  'service']\n",
              "2                                            NaN\n",
              "3                 ['service',  'delivery agent']\n",
              "4                               ['delivery guy']\n",
              "                          ...                   \n",
              "2695                              ['delivering']\n",
              "2696                                          []\n",
              "2697                                  ['amazon']\n",
              "2698                                ['delivery']\n",
              "2699                                ['delivery']\n",
              "Name: aspects, Length: 2700, dtype: object"
            ]
          },
          "execution_count": 11,
          "metadata": {},
          "output_type": "execute_result"
        }
      ],
      "source": [
        "df['aspects']"
      ]
    },
    {
      "cell_type": "code",
      "execution_count": null,
      "metadata": {
        "id": "32JLDsIE1P74"
      },
      "outputs": [],
      "source": [
        "df2= df[df['aspects'].notna()].reset_index()"
      ]
    },
    {
      "cell_type": "code",
      "execution_count": null,
      "metadata": {
        "id": "gWjhrY5L1P74",
        "outputId": "51550fa2-bb9f-4f5f-a040-427af0e074cc"
      },
      "outputs": [
        {
          "data": {
            "text/html": [
              "<div>\n",
              "<style scoped>\n",
              "    .dataframe tbody tr th:only-of-type {\n",
              "        vertical-align: middle;\n",
              "    }\n",
              "\n",
              "    .dataframe tbody tr th {\n",
              "        vertical-align: top;\n",
              "    }\n",
              "\n",
              "    .dataframe thead th {\n",
              "        text-align: right;\n",
              "    }\n",
              "</style>\n",
              "<table border=\"1\" class=\"dataframe\">\n",
              "  <thead>\n",
              "    <tr style=\"text-align: right;\">\n",
              "      <th></th>\n",
              "      <th>index</th>\n",
              "      <th>Unnamed: 0</th>\n",
              "      <th>Unnamed: 0.1</th>\n",
              "      <th>Date</th>\n",
              "      <th>User</th>\n",
              "      <th>Tweet</th>\n",
              "      <th>tokens</th>\n",
              "      <th>aspects</th>\n",
              "      <th>sentiments</th>\n",
              "    </tr>\n",
              "  </thead>\n",
              "  <tbody>\n",
              "    <tr>\n",
              "      <th>0</th>\n",
              "      <td>0</td>\n",
              "      <td>0</td>\n",
              "      <td>0</td>\n",
              "      <td>2022-07-13 11:53:05+00:00</td>\n",
              "      <td>mirayu05</td>\n",
              "      <td>some days i purchased nike from myntra which w...</td>\n",
              "      <td>['some', 'days', 'i', 'purchased', 'nike', 'fr...</td>\n",
              "      <td>['fit',  'size',  'delivery',  'return']</td>\n",
              "      <td>['Negative',  'Negative',  'Negative',  'Negat...</td>\n",
              "    </tr>\n",
              "    <tr>\n",
              "      <th>1</th>\n",
              "      <td>1</td>\n",
              "      <td>1</td>\n",
              "      <td>1</td>\n",
              "      <td>2022-07-13 11:44:23+00:00</td>\n",
              "      <td>iMahindroo</td>\n",
              "      <td>myntra so its sorted that my money is stolen i...</td>\n",
              "      <td>['myntra', 'so', 'its', 'sorted', 'that', 'my'...</td>\n",
              "      <td>['delivery',  'service']</td>\n",
              "      <td>['Negative',  'Negative']</td>\n",
              "    </tr>\n",
              "    <tr>\n",
              "      <th>2</th>\n",
              "      <td>3</td>\n",
              "      <td>3</td>\n",
              "      <td>3</td>\n",
              "      <td>2022-07-13 11:34:47+00:00</td>\n",
              "      <td>Arunabha_Gupta</td>\n",
              "      <td>myntra myntra another extremely poor quality c...</td>\n",
              "      <td>['myntra', 'myntra', 'another', 'extremely', '...</td>\n",
              "      <td>['service',  'delivery agent']</td>\n",
              "      <td>['Negative',  'Negative']</td>\n",
              "    </tr>\n",
              "    <tr>\n",
              "      <th>3</th>\n",
              "      <td>4</td>\n",
              "      <td>4</td>\n",
              "      <td>4</td>\n",
              "      <td>2022-07-13 11:34:18+00:00</td>\n",
              "      <td>Muskan_patel_06</td>\n",
              "      <td>myntra now the delivery guy is denying to come...</td>\n",
              "      <td>['myntra', 'now', 'the', 'delivery', 'guy', 'i...</td>\n",
              "      <td>['delivery guy']</td>\n",
              "      <td>['Negative']</td>\n",
              "    </tr>\n",
              "    <tr>\n",
              "      <th>4</th>\n",
              "      <td>5</td>\n",
              "      <td>5</td>\n",
              "      <td>5</td>\n",
              "      <td>2022-07-13 10:49:12+00:00</td>\n",
              "      <td>virenderrewar</td>\n",
              "      <td>myntra i have ordered red tape shoes order id ...</td>\n",
              "      <td>['myntra', 'i', 'have', 'ordered', 'red', 'tap...</td>\n",
              "      <td>['delivery']</td>\n",
              "      <td>['Negative']</td>\n",
              "    </tr>\n",
              "  </tbody>\n",
              "</table>\n",
              "</div>"
            ],
            "text/plain": [
              "   index  Unnamed: 0  Unnamed: 0.1                       Date  \\\n",
              "0      0           0             0  2022-07-13 11:53:05+00:00   \n",
              "1      1           1             1  2022-07-13 11:44:23+00:00   \n",
              "2      3           3             3  2022-07-13 11:34:47+00:00   \n",
              "3      4           4             4  2022-07-13 11:34:18+00:00   \n",
              "4      5           5             5  2022-07-13 10:49:12+00:00   \n",
              "\n",
              "              User                                              Tweet  \\\n",
              "0         mirayu05  some days i purchased nike from myntra which w...   \n",
              "1       iMahindroo  myntra so its sorted that my money is stolen i...   \n",
              "2   Arunabha_Gupta  myntra myntra another extremely poor quality c...   \n",
              "3  Muskan_patel_06  myntra now the delivery guy is denying to come...   \n",
              "4    virenderrewar  myntra i have ordered red tape shoes order id ...   \n",
              "\n",
              "                                              tokens  \\\n",
              "0  ['some', 'days', 'i', 'purchased', 'nike', 'fr...   \n",
              "1  ['myntra', 'so', 'its', 'sorted', 'that', 'my'...   \n",
              "2  ['myntra', 'myntra', 'another', 'extremely', '...   \n",
              "3  ['myntra', 'now', 'the', 'delivery', 'guy', 'i...   \n",
              "4  ['myntra', 'i', 'have', 'ordered', 'red', 'tap...   \n",
              "\n",
              "                                    aspects  \\\n",
              "0  ['fit',  'size',  'delivery',  'return']   \n",
              "1                  ['delivery',  'service']   \n",
              "2            ['service',  'delivery agent']   \n",
              "3                          ['delivery guy']   \n",
              "4                              ['delivery']   \n",
              "\n",
              "                                          sentiments  \n",
              "0  ['Negative',  'Negative',  'Negative',  'Negat...  \n",
              "1                          ['Negative',  'Negative']  \n",
              "2                          ['Negative',  'Negative']  \n",
              "3                                       ['Negative']  \n",
              "4                                       ['Negative']  "
            ]
          },
          "execution_count": 13,
          "metadata": {},
          "output_type": "execute_result"
        }
      ],
      "source": [
        "df2.head()"
      ]
    },
    {
      "cell_type": "code",
      "execution_count": null,
      "metadata": {
        "id": "FfjpmW501P74"
      },
      "outputs": [],
      "source": [
        "l1=[]\n",
        "\n",
        "for i in range(len(df2)):\n",
        "\n",
        "    for j in range(len(df2['aspects'][i])):\n",
        "\n",
        "        l1+=[df2['aspects'][i][j]]"
      ]
    },
    {
      "cell_type": "code",
      "execution_count": null,
      "metadata": {
        "id": "AvHsOfxz1P74"
      },
      "outputs": [],
      "source": [
        "dict1={}\n",
        "l=[]\n",
        "\n",
        "for i in l1:\n",
        "\n",
        "    if i not in dict1:\n",
        "\n",
        "        dict1[i]=1\n",
        "        l+=[i]\n",
        "\n",
        "    else:\n",
        "\n",
        "        dict1[i]+=1"
      ]
    },
    {
      "cell_type": "code",
      "execution_count": null,
      "metadata": {
        "id": "r-b47Wf11P75",
        "outputId": "abbf2f3f-5956-4c31-bf87-aad780501d2d"
      },
      "outputs": [
        {
          "name": "stdout",
          "output_type": "stream",
          "text": [
            "{\"'fit'\": 7, \" 'size'\": 25, \" 'delivery'\": 289, \" 'return'\": 8, \"'delivery'\": 854, \" 'service'\": 108, \"'service'\": 106, \" 'delivery agent'\": 44, \"'delivery guy'\": 79, \"'myntra'\": 27, \" 'delivery agents'\": 10, \" 'app'\": 4, \"'quality of products'\": 1, \"'quality'\": 99, \" 'systems'\": 1, \" 'deliver'\": 8, \" 'quality'\": 45, \"'delivery guys'\": 14, \"'size'\": 29, '': 236, \"'delivery boy'\": 120, \" 'delivery boy'\": 22, \"'defect'\": 1, \" 'liability'\": 1, \"'delivery agent'\": 126, \"'delivery person'\": 25, \" 'package'\": 9, \"'customer executive service'\": 1, \" 'packaging'\": 2, \" 'customer service'\": 13, \"'backend supporti'\": 1, \"'customer service customer support'\": 1, \"'delivery boys'\": 10, \"'system'\": 3, \"'customer service'\": 30, \"'qc'\": 1, \" 'return policy'\": 2, \"'convenience'\": 1, \"'order'\": 4, \" 'customer care service'\": 2, \"'lenskartcom'\": 1, \" 'specs'\": 1, \" 'delivering'\": 1, \"'sir'\": 1, \" 'wear'\": 1, \" 'stock'\": 4, \"'forum'\": 2, \"'bluetooth'\": 1, \"'delivered'\": 22, \"'case manager'\": 2, \"'tommy hilfiger'\": 2, \" 'customer care lady'\": 1, \"'delivery charges'\": 1, \"'managers'\": 6, \"'agent'\": 10, \"'delivery executive'\": 25, \" 'delivery system'\": 3, \"'color'\": 5, \"'price'\": 8, \" 'manager'\": 4, \"'customer care'\": 29, \" 'customer care'\": 35, \" 'delivery guy'\": 18, \"'packages'\": 2, \"'table lamp quality'\": 1, \" 'customer'\": 5, \" 'services'\": 12, \" 'delivered'\": 8, \"'deliverynobody'\": 1, \"'quality check'\": 7, \" 'price'\": 3, \"'return'\": 9, \"'delivery date'\": 4, \"'delivery team'\": 4, \" 'staff'\": 8, \" 'delivery man'\": 4, \" 'food'\": 1, \"'seller'\": 3, \"'return policy'\": 2, \" 'product'\": 1, \"'services'\": 20, \" 'helpline'\": 1, \"'myntra app'\": 1, \"'ferrari'\": 1, \" 'immideat'\": 1, \"'manager'\": 18, \" 'customer service agent'\": 1, \" 'ethics'\": 1, \"'head'\": 1, \"'colour'\": 4, \" 'flipkart'\": 3, \"'louis philippe'\": 2, \" 'collar'\": 1, \" 'shipment'\": 7, \"'support'\": 9, \"'attitude'\": 3, \"'box'\": 8, \"'boxlike'\": 1, \" 'padding'\": 1, \" 'support'\": 7, \" 'fitting'\": 2, \"'logistics'\": 3, \" 'products'\": 3, \"'return service'\": 1, \" 'returns'\": 1, \"'quality of clothes'\": 1, \" 'delivery guys'\": 3, \"'customer care service'\": 2, \"'product quality'\": 4, \"'tags'\": 6, \" 'attitude'\": 2, \"'prices stock'\": 1, \"'customer support'\": 7, \"'pricing'\": 2, \"'payment'\": 2, \" 'customer services'\": 1, \" 'supervisor'\": 1, \"'ecom delivery'\": 1, \" 'colour'\": 4, \"'sleeve'\": 1, \"'quality officers'\": 2, \" 'call centre'\": 1, \"'case managers'\": 1, \"'package'\": 5, \"'quality of'\": 1, \"'amazon'\": 9, \"'jewellery box'\": 1, \" 'delivery person'\": 5, \"'supervisor'\": 1, \" 'care'\": 4, \"'deliver'\": 5, \" 'delivery service'\": 4, \" 'tracking'\": 2, \"'packaging'\": 5, \"'tag'\": 4, \" 'tags'\": 5, \"'glue'\": 1, \" 'delivery staff'\": 1, \"'delivery staff'\": 2, \"'delivery agents'\": 18, \"'delivery fees'\": 1, \"'team'\": 1, \" 'warehouse'\": 1, \" 'support desk'\": 1, \"'puma track'\": 1, \"'refund'\": 5, \"'prepaid'\": 1, \" 'charges'\": 1, \"'delivery executives'\": 7, \"'prepaid orders'\": 1, \" 'return policies'\": 1, \"'ceo'\": 2, \"'calvin klein'\": 1, \"'delivery service'\": 26, \"'process'\": 2, \"'shipment'\": 3, \" 'exchange'\": 1, \"'quality clothes'\": 1, \" 'fabric threads'\": 1, \" 'customer support'\": 9, \"'actions'\": 1, \" 'assistant'\": 1, \" 'forum'\": 2, \"'app'\": 4, \"'cash on delivery option'\": 1, \"'parcel'\": 2, \"'policies'\": 1, \" 'jeans'\": 1, \"'customer support agent'\": 1, \" 'ivr'\": 3, \"'petrol'\": 1, \" 'logistics'\": 3, \"'policy'\": 2, \"'idiocracy'\": 1, \"'care'\": 5, \" 'print'\": 1, \"'myntrasupport'\": 10, \" 'serviceand'\": 1, \"'delivery associate'\": 1, \" 'quality of product'\": 1, \"'waiting'\": 2, \"'police'\": 1, \"'delivery partners'\": 1, \"'delivery persons'\": 3, \"'sound quality'\": 4, \" 'charge pot'\": 4, \"'delivery time'\": 1, \"'delivery systembooked'\": 1, \"'cosmetic'\": 1, \" 'deliverythis'\": 1, \" 'threads'\": 1, \" 'communication'\": 1, \"'kindle'\": 1, \"'flipkart'\": 6, \"'delivery man'\": 5, \"'quality control'\": 1, \" 'breakfast'\": 1, \" 'moneyplease'\": 1, \"'customer support serviceyour delivery agent'\": 1, \"'products'\": 8, \"'customer'\": 1, \"'platefrom'\": 1, \" 'custumour'\": 1, \" 'staffs'\": 1, \" 'packages'\": 2, \"'orders'\": 1, \" 'sale'\": 2, \"'delivery boy sunil'\": 1, \" 'nandita'\": 1, \" 'quality check'\": 3, \" 'delievery'\": 1, \"'riya'\": 1, \" 'order'\": 3, \"'support team'\": 2, \" 'doorstep'\": 1, \"'sizing'\": 1, \"'sales'\": 1, \"'buttons'\": 1, \" 'myntra service'\": 1, \"'behaviour'\": 1, \" 'representative'\": 1, \"'manger'\": 1, \" 'design'\": 1, \"'myntra delivery'\": 2, \" 'options'\": 2, \" 'responses'\": 1, \"'swiggy'\": 1, \"'delivery partner staff'\": 1, \"'delivery partner'\": 3, \" 'agents'\": 5, \"'servicesi'\": 1, \"'delivery managers'\": 1, \"'poc'\": 1, \" 'accessories'\": 1, \"'mr rajesh'\": 2, \"'support agents'\": 1, \" 'chat'\": 1, \" 'photo'\": 1, \" 'delivery executive'\": 4, \" 'executives'\": 2, \"'delivery status'\": 1, \" 'managers'\": 5, \"'simram'\": 1, \" 'agent'\": 9, \"'pickup executive'\": 1, \" 'online delivery'\": 1, \" 'product tag'\": 1, \"'guards'\": 1, \" 'prepaid'\": 1, \"'deliverythe'\": 1, \"'mantra'\": 1, \" 'estimated'\": 1, \" 'shopping'\": 1, \"'servicei'\": 2, \"'maids'\": 1, \" 'cargos'\": 1, \" 'customer care services'\": 1, \" 'spot'\": 1, \"'lipika'\": 2, \"'top'\": 1, \"'cloth'\": 1, \"'address'\": 1, \" 'google'\": 1, \" 'treatment'\": 1, \"'prices'\": 2, \" 'customer support agent'\": 1, \"'description'\": 1, \"'print'\": 1, \" 'fabric'\": 1, \" 'ink'\": 1, \" 'customercare'\": 1, \" 'packing'\": 1, \" 'delivery services'\": 1, \" 'shipped'\": 1, \"'answers'\": 1, \"'help section'\": 1, \"'delivery policy'\": 1, \"'delivery dates'\": 1, \" 'delivery management'\": 1, \"'returns'\": 2, \" 'hassle'\": 1, \"'delivery process'\": 2, \" 'deliveries'\": 3, \"'price tag'\": 1, \" 'track'\": 1, \"'delivery patner'\": 1, \" 'cust'\": 2, \"'delivery people'\": 3, \" 'cod'\": 1, \"'mac'\": 1, \"'delivery packages'\": 1, \"'delivery services'\": 4, \" 'sales'\": 1, \"'boy'\": 1, \" 'waiting'\": 2, \" 'sagar sagne'\": 1, \" 'delivery people'\": 1, \" 'delivery persons'\": 2, \" 'quality products'\": 1, \"'battery'\": 1, \" 'amazon'\": 3, \"'marie claire'\": 1, \" 'marie claire'\": 1, \"'sale'\": 2, \"'asics'\": 1, \"'boxi'\": 1, \"'rohan yadav'\": 1, \"'delivery sms'\": 1, \"'ivr'\": 1, \"'kurta'\": 1, \" 'palazzo'\": 1, \" 'delivery date'\": 1, \"'quality material'\": 1, \" 'support team'\": 1, \" 'cc'\": 1, \"'deliverynd'\": 1, \" 'delivered location'\": 1, \"'delivery times'\": 1, \"'quality of product'\": 2, \"'agents'\": 3, \"'executives'\": 3, \"'ivr system'\": 1, \"'pickup'\": 3, \"'delivery address'\": 2, \" 'customer support system'\": 1, \"'deliveryplease'\": 1, \" 'ship'\": 1, \" 'quality control'\": 1, \" 'money'\": 2, \" 'payment'\": 1, \"'delivery option'\": 1, \" 'color'\": 2, \"'maybelline creamy matte'\": 1, \" 'customer care center'\": 1, \"'band'\": 1, \" 'material'\": 1, \"'addidas'\": 1, \"'pattern'\": 1, \"'deliveries'\": 3, \" 'kapda'\": 1, \"'quality inspection'\": 1, \" 'training'\": 1, \"'bill'\": 1, \"'boxes'\": 1, \"'delivery support'\": 1, \" 'sizes'\": 1, \" 'quality of'\": 1, \" 'cust care'\": 1, \"'weaving'\": 1, \" 'handling'\": 1, \" 'quality of cloths'\": 1, \" 'quantity'\": 1, \"'strap'\": 1, \"'packet'\": 1, \" 'box'\": 4, \"'manufacturing'\": 1, \"'service quality'\": 3, \" 'paper'\": 1, \"'support staff'\": 1, \" 'tech'\": 1, \" 'supporti'\": 1, \"'customer agents'\": 1, \" 'delivery partnersthis'\": 1, \" 'pricing'\": 1, \" 'style'\": 1, \" 'marks'\": 1, \"'quality of cloth'\": 1, \"'warranty'\": 2, \" 'aditya'\": 1, \"'cust service'\": 1, \" 'milkha singh'\": 1, \" 'eggo'\": 1, \" 'virat'\": 1, \"'pickup guy'\": 1, \" 'customer executive'\": 1, \"'ranjeet'\": 1, \"'shankar'\": 1, \"'sole'\": 1, \" 'customerservice'\": 1, \"'express delivery'\": 6, \"'sunit'\": 1, \" 'delay'\": 1, \" 'bevaviour'\": 1, \" 'sole'\": 2, \"'inner sole'\": 2, \"'material'\": 1, \" 'printing'\": 1, \" 'myntra'\": 2, \"'estimated delivery'\": 1, \" 'prices'\": 8, \"'tracking'\": 1, \"'delivery warehouse'\": 1, \"'image quality'\": 1, \"'food'\": 2, \"'delivery system'\": 3, \"'facility'\": 1, \" 'waits'\": 1, \"'express delivery feature'\": 1, \"'prime'\": 1, \" 'eye'\": 1, \" 'pocket'\": 1, \"'belt'\": 1, \" 'buckle quality'\": 1, \" 'screw'\": 1, \" 'buckle'\": 1, \" 'kashmir'\": 1, \"'executive'\": 3, \" 'express delivery'\": 1, \"'cost'\": 1, \" 'delivery boys'\": 1, \" 'despatch'\": 1, \"'server'\": 2, \"'express delivery program'\": 1, \" 'quality of their clothes'\": 1, \"'money'\": 1, \" 'sized'\": 1, \"'shipped'\": 1, \" 'delivery center'\": 1, \" 'quality of service'\": 1, \"'retun'\": 2, \" 'delivery process'\": 2, \"'delivery exec'\": 2, \"'order quality'\": 1, \"'amount'\": 1, \"'packed'\": 1, \" 'conditions'\": 1, \" 'delivered product'\": 1, \"'google'\": 1, \"'delivery management'\": 1, \"'courier boy'\": 1, \" 'fit'\": 3, \" 'parcel'\": 1, \"'pos machine availability'\": 1, \"'quality department'\": 1, \"'service level'\": 1, \"'product delivery'\": 1, \" 'help center'\": 1, \"'exchange'\": 3, \" 'products price'\": 1, \" 'customers'\": 1, \"'delivery - pickup'\": 1, \" 'sound'\": 1, \" 'support agent'\": 1, \" 'policies'\": 2, \"'deliverythere'\": 1, \" 'size delivered'\": 1, \" 'security'\": 1, \" 'delivery serviceand delivery agent'\": 1, \" 'gaurav'\": 1, \"'logistics system'\": 1, \"'express'\": 1, \" 'quality team'\": 1, \" 'models'\": 1, \"'shipping charges'\": 1, \" 'language'\": 1, \"'sizes'\": 1, \" 'barcode'\": 1, \" 'tag'\": 1, \" 'sold'\": 1, \" 'government'\": 1, \" 'servicethe'\": 1, \" 'dispatch'\": 1, \"'build quality'\": 1, \" 'fit and finish'\": 1, \" 'exchanges'\": 1, \"'batter'\": 2, \" 'boy'\": 1, \" 'process'\": 1, \"'shipping'\": 1, \"'cod'\": 1, \" 'executive'\": 1, \" 'ceo'\": 1, \"'pay on delivery'\": 1, \"'logo'\": 1, \"'chat support'\": 1, \"'quality product'\": 1, \" 'refund'\": 2, \" 'callback'\": 1, \"'chat option'\": 1, \"'paint'\": 1, \" 'paint'\": 1, \"'delivery manager'\": 1, \" 'gentleman'\": 1, \" 'chinese maal'\": 1, \" 'delivery times'\": 1, \"'intelligent agent'\": 1, \" 'people'\": 1, \" 'courier'\": 1, \" 'customer care support'\": 1, \"'ethics'\": 1, \"'expressbees'\": 1, \"'jeans'\": 1, \"'mukeshbansal'\": 1, \"'delivery reps'\": 1, \"'myntra thappad'\": 1, \"'commitments'\": 1, \"'staff'\": 2, \" 'servic'\": 1, \" 'maybelline'\": 2, \"'gaurav sharma'\": 2, \" 'seller'\": 1, \" 'guy'\": 6, \" 'delivery channels'\": 1, \"'wait'\": 1, \"'maybelline'\": 1, \"'shoes'\": 1, \" 'fuel'\": 1, \" 'delivery executives'\": 1, \"'delivey guy'\": 1, \" 'order delivery'\": 1, \" 'fellow'\": 1, \"'call centre guy'\": 1, \"'dialler'\": 1, \" 'size delivery'\": 1, \"'management'\": 1, \" 'units'\": 1, \" 'price tag'\": 1, \" 'servicesthis'\": 1, \" 'shoe'\": 2, \" 'delivery charges'\": 1, \"'quality team'\": 1, \" 'trousers'\": 1, \"'ship'\": 1, \"'texture'\": 1, \"'product'\": 1, \"'logistics team'\": 1, \" 'customer care team'\": 1, \"'employees'\": 1, \"'perfume'\": 1, \" 'system'\": 1, \"'transportation'\": 1, \"'site'\": 1, \" 'management'\": 1, \"'delivering'\": 1}\n"
          ]
        }
      ],
      "source": [
        "print(dict1)"
      ]
    },
    {
      "cell_type": "code",
      "execution_count": null,
      "metadata": {
        "id": "RyAv_Scu1P75"
      },
      "outputs": [],
      "source": [
        "for i in l:\n",
        "\n",
        "    if dict1[i]<=10:\n",
        "\n",
        "        del dict1[i]\n"
      ]
    },
    {
      "cell_type": "code",
      "execution_count": null,
      "metadata": {
        "id": "MO_qDoyX1P75",
        "outputId": "6038eb07-8857-4243-9776-0edb798841f5"
      },
      "outputs": [
        {
          "name": "stdout",
          "output_type": "stream",
          "text": [
            "{\" 'size'\": 25, \" 'delivery'\": 289, \"'delivery'\": 854, \" 'service'\": 108, \"'service'\": 106, \" 'delivery agent'\": 44, \"'delivery guy'\": 79, \"'myntra'\": 27, \"'quality'\": 99, \" 'quality'\": 45, \"'delivery guys'\": 14, \"'size'\": 29, '': 236, \"'delivery boy'\": 120, \" 'delivery boy'\": 22, \"'delivery agent'\": 126, \"'delivery person'\": 25, \" 'customer service'\": 13, \"'customer service'\": 30, \"'delivered'\": 22, \"'delivery executive'\": 25, \"'customer care'\": 29, \" 'customer care'\": 35, \" 'delivery guy'\": 18, \" 'services'\": 12, \"'services'\": 20, \"'manager'\": 18, \"'delivery agents'\": 18, \"'delivery service'\": 26}\n"
          ]
        }
      ],
      "source": [
        "print(dict1)"
      ]
    },
    {
      "cell_type": "code",
      "source": [
        "dict1 = {\"size\": 25, \"delivery\": 289, \"delivery\": 854, \"service\": 108, \"service\": 106, \"delivery agent\": 44, \"delivery guy\": 79, \"myntra\": 27, \"quality\": 99, \"quality\": 45, \"delivery guys\": 14, \"size\": 29, '': 236, \"delivery boy\": 120, \"delivery boy\": 22, \"delivery agent\": 126, \"delivery person\": 25, \"customer service\": 13, \"customer service\": 30, \"delivered\": 22, \"delivery executive\": 25, \"customer care\": 29, \"customer care\": 35, \"delivery guy\": 18, \"services\": 12, \"services\": 20, \"manager\": 18, \"delivery agents\": 18, \"delivery service\": 26}"
      ],
      "metadata": {
        "id": "geaGcJEe2I2Q"
      },
      "execution_count": null,
      "outputs": []
    },
    {
      "cell_type": "markdown",
      "source": [
        "deliver, quality, service, size, customer"
      ],
      "metadata": {
        "id": "PBnybKoL10wg"
      }
    },
    {
      "cell_type": "code",
      "source": [
        "final_dict = {\"deliver\":0, \"quality\":0, \"service\": 0, \"size\":0, \"customer\":0}"
      ],
      "metadata": {
        "id": "4ym9IZfW3JuG"
      },
      "execution_count": null,
      "outputs": []
    },
    {
      "cell_type": "code",
      "source": [
        "keys = list(dict1.keys())"
      ],
      "metadata": {
        "id": "uvryn80h20bL"
      },
      "execution_count": null,
      "outputs": []
    },
    {
      "cell_type": "code",
      "source": [
        "final = []\n",
        "for i in range(len(keys)):\n",
        "    if \"deliver\" in keys[i]:\n",
        "        final_dict[\"deliver\"] = final_dict.get(\"deliver\", 0) + dict1[keys[i]]\n",
        "    elif \"quality\" in keys[i]:\n",
        "        final_dict[\"quality\"] = final_dict.get(\"quality\", 0) + dict1[keys[i]]\n",
        "    elif \"service\" in keys[i]:\n",
        "        final_dict[\"service\"] = final_dict.get(\"service\", 0) + dict1[keys[i]]\n",
        "    elif \"size\" in keys[i]:\n",
        "        final_dict[\"size\"] = final_dict.get(\"size\", 0) + dict1[keys[i]]\n",
        "    else:\n",
        "        final_dict[\"customer\"] = final_dict.get(\"customer\", 0) + dict1[keys[i]]"
      ],
      "metadata": {
        "id": "GHGujQXW263K"
      },
      "execution_count": null,
      "outputs": []
    },
    {
      "cell_type": "code",
      "source": [
        "final_dict"
      ],
      "metadata": {
        "colab": {
          "base_uri": "https://localhost:8080/"
        },
        "id": "LchVO7CU4moC",
        "outputId": "b596e02c-1d72-4d0d-a2ea-5e75270aa0c1"
      },
      "execution_count": null,
      "outputs": [
        {
          "output_type": "execute_result",
          "data": {
            "text/plain": [
              "{'customer': 316, 'deliver': 1150, 'quality': 45, 'service': 156, 'size': 29}"
            ]
          },
          "metadata": {},
          "execution_count": 9
        }
      ]
    },
    {
      "cell_type": "markdown",
      "source": [
        "#Pie chart showcasing different shortcomings of a company"
      ],
      "metadata": {
        "id": "DzuRPmKke15j"
      }
    },
    {
      "cell_type": "code",
      "execution_count": null,
      "metadata": {
        "colab": {
          "base_uri": "https://localhost:8080/",
          "height": 265
        },
        "id": "BWDSPw8l1P75",
        "outputId": "aaa189da-170e-4628-cfda-330adcc83951"
      },
      "outputs": [
        {
          "output_type": "display_data",
          "data": {
            "text/plain": [
              "<Figure size 432x288 with 1 Axes>"
            ],
            "image/png": "[encoded data removed]"
          },
          "metadata": {
            "needs_background": "light"
          }
        }
      ],
      "source": [
        "import matplotlib.pyplot as plt \n",
        "\n",
        "label=[]\n",
        "\n",
        "size= []\n",
        "\n",
        "for x,y in final_dict.items():\n",
        "    label.append(x)\n",
        "    size.append(y)\n",
        "\n",
        "plt.pie(size, labels=label, radius=1800, frame=True)\n",
        "\n",
        "\n",
        "plt.axis('equal')\n",
        "\n",
        "plt.show()"
      ]
    },
    {
      "cell_type": "markdown",
      "source": [
        "##Pie Chart showcasing Negetive-Positive tweet distribution using ABSA"
      ],
      "metadata": {
        "id": "l2EpP1a6ejCn"
      }
    },
    {
      "cell_type": "code",
      "execution_count": null,
      "metadata": {
        "id": "mp56kT4E1P76"
      },
      "outputs": [],
      "source": [
        "dict2={'Neutral':0, 'Positive':0, 'Negative':0}\n",
        "\n",
        "\n",
        "\n",
        "for i in range(len(d1)):\n",
        "\n",
        "    if d1['sentiment'][i]=='Neutral':\n",
        "\n",
        "        dict2['Neutral']+=1\n",
        "\n",
        "    if d1['sentiment'][i]=='Positive':\n",
        "\n",
        "        dict2['Positive']+=1\n",
        "\n",
        "    if d1['sentiment'][i]=='Negetive':\n",
        "\n",
        "        dict2['Negative']+=1\n"
      ]
    },
    {
      "cell_type": "code",
      "execution_count": null,
      "metadata": {
        "id": "j9N52DBC1P76",
        "outputId": "09335b84-78f8-4396-ac6b-515c3d6026cf"
      },
      "outputs": [
        {
          "name": "stdout",
          "output_type": "stream",
          "text": [
            "{'Neutral': 1611, 'Positive': 718, 'Negative': 2671}\n"
          ]
        }
      ],
      "source": [
        "print(dict2)"
      ]
    },
    {
      "cell_type": "code",
      "execution_count": null,
      "metadata": {
        "id": "9dnvOimm1P77",
        "outputId": "523868d8-fdbb-47e5-89cf-6d2fda9e7fda"
      },
      "outputs": [
        {
          "data": {
            "image/png": "[encoded data removed]",
            "text/plain": [
              "<Figure size 432x288 with 1 Axes>"
            ]
          },
          "metadata": {
            "needs_background": "light"
          },
          "output_type": "display_data"
        }
      ],
      "source": [
        "import matplotlib.pyplot as plt \n",
        "\n",
        "label=[]\n",
        "\n",
        "size= []\n",
        "\n",
        "for x,y in dict2.items():\n",
        "    label.append(x)\n",
        "    size.append(y)\n",
        "\n",
        "plt.pie(size, labels=label, radius=1800, frame=True)\n",
        "\n",
        "\n",
        "plt.axis('equal')\n",
        "\n",
        "plt.show()"
      ]
    },
    {
      "cell_type": "code",
      "execution_count": null,
      "metadata": {
        "id": "jTJQ5AnW1P77"
      },
      "outputs": [],
      "source": [
        "dict3= {'Positive': 0, 'Negative':0} \n",
        "\n",
        "for i in range(len(p1)):\n",
        "\n",
        "    for j in range(len(p1['sentiments'][i])):\n",
        "\n",
        "        if p1['sentiments'][i][j]==\"'Positive'\":\n",
        "\n",
        "            dict3['Positive']+=1\n",
        "\n",
        "        if p1['sentiments'][i][j]==\"'Negative'\":\n",
        "\n",
        "            dict3['Negative']+=1\n",
        "\n"
      ]
    },
    {
      "cell_type": "code",
      "execution_count": null,
      "metadata": {
        "id": "8mJOv7rO1P77",
        "outputId": "13ca9cb8-92d6-42a8-8d89-c15013f043c4"
      },
      "outputs": [
        {
          "name": "stdout",
          "output_type": "stream",
          "text": [
            "{'Positive': 288, 'Negative': 2048}\n"
          ]
        }
      ],
      "source": [
        "print(dict3)"
      ]
    },
    {
      "cell_type": "markdown",
      "source": [
        "##Pie Chart Showcasing negetive-positive tweet distribution using roBERTa"
      ],
      "metadata": {
        "id": "oz7cKRFZeWEL"
      }
    },
    {
      "cell_type": "code",
      "execution_count": null,
      "metadata": {
        "id": "x0ld8Y_81P77",
        "outputId": "3d4a964b-6d22-458b-d747-f2252da1ce49"
      },
      "outputs": [
        {
          "data": {
            "image/png": "[encoded data removed]",
            "text/plain": [
              "<Figure size 432x288 with 1 Axes>"
            ]
          },
          "metadata": {
            "needs_background": "light"
          },
          "output_type": "display_data"
        }
      ],
      "source": [
        "import matplotlib.pyplot as plt \n",
        "\n",
        "label=[]\n",
        "\n",
        "size= []\n",
        "\n",
        "for x,y in dict3.items():\n",
        "    label.append(x)\n",
        "    size.append(y)\n",
        "\n",
        "plt.pie(size, labels=label, radius=1800, frame=True)\n",
        "\n",
        "\n",
        "plt.axis('equal')\n",
        "\n",
        "plt.show()"
      ]
    }
  ],
  "metadata": {
    "kernelspec": {
      "display_name": "Python 3.10.5 64-bit (windows store)",
      "language": "python",
      "name": "python3"
    },
    "language_info": {
      "codemirror_mode": {
        "name": "ipython",
        "version": 3
      },
      "file_extension": ".py",
      "mimetype": "text/x-python",
      "name": "python",
      "nbconvert_exporter": "python",
      "pygments_lexer": "ipython3",
      "version": "3.10.5"
    },
    "orig_nbformat": 4,
    "vscode": {
      "interpreter": {
        "hash": "e4f39047f4e9cc9b3ad58404b253244e49dbf604894e0d0c8162e12c995ace6c"
      }
    },
    "colab": {
      "name": "Visual-analysis-and-result.ipynb",
      "provenance": [],
      "include_colab_link": true
    }
  },
  "nbformat": 4,
  "nbformat_minor": 0
}